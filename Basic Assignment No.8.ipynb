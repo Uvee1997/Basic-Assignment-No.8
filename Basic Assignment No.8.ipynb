{
 "cells": [
  {
   "cell_type": "markdown",
   "id": "ca654518",
   "metadata": {},
   "source": [
    "1) Is the Python Standard Library included with PyInputPlus ?\n",
    "\n",
    ":- Yes. By using PyInputPlus in python standard gives additional valiation features, it will keep asking user until they      enter valid input "
   ]
  },
  {
   "cell_type": "markdown",
   "id": "b9a37334",
   "metadata": {},
   "source": [
    "2) Why is PyInputPlus commonly imported with import pyinputplus as pypi ?\n",
    "\n",
    ":- That will help to enter a shorter name that calling module function."
   ]
  },
  {
   "cell_type": "code",
   "execution_count": null,
   "id": "866aa8b5",
   "metadata": {},
   "outputs": [],
   "source": [
    "3) How you will distinguish between inputInt() and inputFloat() ?\n",
    "\n",
    ":- inputInt() = It allows interger values\n",
    "   inputFloat() = It allows floating point numeric values "
   ]
  },
  {
   "cell_type": "markdown",
   "id": "6f7dd0f2",
   "metadata": {},
   "source": [
    "4) Using PyInputPlus, How do you ensure that user enters a whole number between 0 to 99 ?\n",
    "\n",
    ":- pyip.inputplus(min=0,max=99)"
   ]
  },
  {
   "cell_type": "markdown",
   "id": "776fa439",
   "metadata": {},
   "source": [
    "5) What is transferred to the keyword arguments allowRegexes and blockRegexes ?\n",
    "\n",
    ":- inputNum()"
   ]
  },
  {
   "cell_type": "markdown",
   "id": "255befd3",
   "metadata": {},
   "source": [
    "6) If a blank input is entered three times, what does inputStr(limit=3) do ?\n",
    "\n",
    ":- If we entered blank input three times it will give me value of the last input as shown below. By entering inputStr(limit=3) it gives error.(Str is not callable)"
   ]
  },
  {
   "cell_type": "code",
   "execution_count": 2,
   "id": "4485b235",
   "metadata": {},
   "outputs": [
    {
     "name": "stdout",
     "output_type": "stream",
     "text": [
      "23\n",
      "23\n",
      "56\n"
     ]
    },
    {
     "data": {
      "text/plain": [
       "'56'"
      ]
     },
     "execution_count": 2,
     "metadata": {},
     "output_type": "execute_result"
    }
   ],
   "source": [
    "input()\n",
    "input()\n",
    "input()"
   ]
  },
  {
   "cell_type": "markdown",
   "id": "5516043a",
   "metadata": {},
   "source": [
    "7) If blank input is entered three times, what does inputStr(limit=3, default=\"hello\") do?\n",
    "\n",
    ":- It can cause error to be raised"
   ]
  }
 ],
 "metadata": {
  "kernelspec": {
   "display_name": "Python 3 (ipykernel)",
   "language": "python",
   "name": "python3"
  },
  "language_info": {
   "codemirror_mode": {
    "name": "ipython",
    "version": 3
   },
   "file_extension": ".py",
   "mimetype": "text/x-python",
   "name": "python",
   "nbconvert_exporter": "python",
   "pygments_lexer": "ipython3",
   "version": "3.9.7"
  }
 },
 "nbformat": 4,
 "nbformat_minor": 5
}
